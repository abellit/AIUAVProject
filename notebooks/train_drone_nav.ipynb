{
 "cells": [
  {
   "cell_type": "code",
   "execution_count": null,
   "metadata": {
    "vscode": {
     "languageId": "plaintext"
    }
   },
   "outputs": [],
   "source": [
    "{\n",
    " \"cells\": [\n",
    "  {\n",
    "   \"cell_type\": \"code\",\n",
    "   \"execution_count\": null,\n",
    "   \"metadata\": {},\n",
    "   \"source\": [\n",
    "    \"# Clone your repository\\n\",\n",
    "    \"!git clone https://github.com/abellit/AIDroneProject.git\",\n",
    "    \"%cd AIDroneProject\\n\",\n",
    "    \"\\n\",\n",
    "    \"# Install dependencies\\n\",\n",
    "    \"!pip install -r requirements.txt\"\n",
    "   ]\n",
    "  },\n",
    "  {\n",
    "   \"cell_type\": \"code\",\n",
    "   \"execution_count\": null,\n",
    "   \"metadata\": {},\n",
    "   \"source\": [\n",
    "    \"# Import the training function directly from your script\\n\",\n",
    "    \"from scripts.train_rl_agent import train_ppo_cnn\\n\",\n",
    "    \"\\n\",\n",
    "    \"# Run the training function\\n\",\n",
    "    \"train_ppo_cnn()\"\n",
    "   ]\n",
    "  }\n",
    " ]\n",
    "}"
   ]
  }
 ],
 "metadata": {
  "language_info": {
   "name": "python"
  }
 },
 "nbformat": 4,
 "nbformat_minor": 2
}
